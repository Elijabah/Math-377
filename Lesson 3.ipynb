{
 "cells": [
  {
   "cell_type": "markdown",
   "metadata": {},
   "source": [
    "# Lesson 3\n",
    "### Questions\n",
    "1. Add chunk of code to beginning of notebook.\n",
    "2. Use basic Python operators to find the number of seconds in the month of June. Find the number of seconds that have lapsed between 1 June at noon and 14 Aug, 9:30 AM.\n",
    "3. Import a table (‘world_population.csv’) and find:\n",
    "a. The population in 2015 (the dataset begins at 1950).\n",
    "b. The population growth between 1950 and 2015.\n",
    "c. The average annual growth rate over the course of the dataset.\n",
    "4. The ‘Titanic’ dataset describes passengers on the Titanic when it sank. Import this dataset and answer the following questions:\n",
    "a. Relabel the ‘Pclass’ column to ‘passenger_class’.\n",
    "b. Create a new column ‘family_size’ that adds the number of siblings/spouses, ‘SibSp’, to the number of children, ‘Parch’.\n",
    "c. Create a barplot of number of passengers, broken down by passenger class.\n",
    "HINT: you will need to use the group method on the dataset; for more info, see the datascience package help.\n",
    "d. Sort the data by age and show the youngest 5 passengers.\n",
    "e. Now sort by age from oldest to youngest and show the oldest 5 passengers.\n",
    "What did you notice? Eliminate these “nan” values and try again.\n",
    "f. Find the survival rate for passengers of the Titanic, broken down by passenger class. (HINT: select the columns you care about and then apply the group method, summarizing with the mean.)\n",
    "g. Now that you have some familiarity with the dataset, create two of your own questions and answer them."
   ]
  },
  {
   "cell_type": "markdown",
   "metadata": {},
   "source": [
    "### Responses"
   ]
  },
  {
   "cell_type": "code",
   "execution_count": 11,
   "metadata": {},
   "outputs": [],
   "source": [
    "#1. This was the chunk of code that we were told to load in (I should be careful as I could be loading in a virus).\n",
    "import numpy as np\n",
    "from datascience import *\n",
    "%matplotlib inline\n",
    "import matplotlib.pyplot as plots\n",
    "plots.style.use('fivethirtyeight')\n",
    "import warnings\n",
    "warnings.simplefilter(action=\"ignore\", category=FutureWarning)"
   ]
  },
  {
   "cell_type": "code",
   "execution_count": 12,
   "metadata": {},
   "outputs": [
    {
     "name": "stdout",
     "output_type": "stream",
     "text": [
      "2592000\n",
      "6384600.0\n"
     ]
    }
   ],
   "source": [
    "#2. By taking the days in june multiplying that by hours in a day, minutes in an hour, and seconds in a minute, we get the\n",
    "# number of seconds in June.\n",
    "seconds_in_june=30*24*60*60\n",
    "\n",
    "# By taking the number of days between June 1st and August 14th multiplying that by hours in a day, minutes in an hour, and\n",
    "# seconds in a minute, then subtract off the 2.5 hour time difference between 12pm and 9:30 am.\n",
    "lapsed_seconds=74*24*60*60-2.5*60*60\n",
    "print(seconds_in_june)\n",
    "print(lapsed_seconds)"
   ]
  },
  {
   "cell_type": "code",
   "execution_count": 23,
   "metadata": {},
   "outputs": [
    {
     "name": "stdout",
     "output_type": "stream",
     "text": [
      "7256490011\n"
     ]
    }
   ],
   "source": [
    "#3a. I load in the table and datascience package and take the 66 entry (index=65) to gain the population in 2015\n",
    "from datascience import *\n",
    "population = Table.read_table(\"world_population.csv\").column(\"Population\")\n",
    "population_in_2015 = population.item(65)\n",
    "print(population_in_2015)"
   ]
  },
  {
   "cell_type": "code",
   "execution_count": 22,
   "metadata": {},
   "outputs": [
    {
     "name": "stdout",
     "output_type": "stream",
     "text": [
      "4698861357\n"
     ]
    }
   ],
   "source": [
    "#b. The increase in population from 1950 to 2015 is the diffence between the population of index 65 and index 0.\n",
    "population_difference=population.item(65)-population.item(0)\n",
    "print(population_difference)"
   ]
  },
  {
   "cell_type": "code",
   "execution_count": null,
   "metadata": {},
   "outputs": [],
   "source": [
    "#c. The average growth in a year is found by dividing the diffence from b by the year difference (65 years).\n",
    "average_growth=population_difference/65\n",
    "print(average_growth)"
   ]
  },
  {
   "cell_type": "code",
   "execution_count": 26,
   "metadata": {},
   "outputs": [
    {
     "data": {
      "text/html": [
       "<table border=\"1\" class=\"dataframe\">\n",
       "    <thead>\n",
       "        <tr>\n",
       "            <th>PassengerId</th> <th>Survived</th> <th>Pclass</th> <th>Name</th> <th>Sex</th> <th>Age</th> <th>SibSp</th> <th>Parch</th> <th>Ticket</th> <th>Fare</th> <th>Cabin</th> <th>Embarked</th>\n",
       "        </tr>\n",
       "    </thead>\n",
       "    <tbody>\n",
       "        <tr>\n",
       "            <td>1          </td> <td>0       </td> <td>3     </td> <td>Braund, Mr. Owen Harris                            </td> <td>male  </td> <td>22  </td> <td>1    </td> <td>0    </td> <td>A/5 21171       </td> <td>7.25   </td> <td>nan  </td> <td>S       </td>\n",
       "        </tr>\n",
       "    </tbody>\n",
       "        <tr>\n",
       "            <td>2          </td> <td>1       </td> <td>1     </td> <td>Cumings, Mrs. John Bradley (Florence Briggs Thayer)</td> <td>female</td> <td>38  </td> <td>1    </td> <td>0    </td> <td>PC 17599        </td> <td>71.2833</td> <td>C85  </td> <td>C       </td>\n",
       "        </tr>\n",
       "    </tbody>\n",
       "        <tr>\n",
       "            <td>3          </td> <td>1       </td> <td>3     </td> <td>Heikkinen, Miss. Laina                             </td> <td>female</td> <td>26  </td> <td>0    </td> <td>0    </td> <td>STON/O2. 3101282</td> <td>7.925  </td> <td>nan  </td> <td>S       </td>\n",
       "        </tr>\n",
       "    </tbody>\n",
       "        <tr>\n",
       "            <td>4          </td> <td>1       </td> <td>1     </td> <td>Futrelle, Mrs. Jacques Heath (Lily May Peel)       </td> <td>female</td> <td>35  </td> <td>1    </td> <td>0    </td> <td>113803          </td> <td>53.1   </td> <td>C123 </td> <td>S       </td>\n",
       "        </tr>\n",
       "    </tbody>\n",
       "        <tr>\n",
       "            <td>5          </td> <td>0       </td> <td>3     </td> <td>Allen, Mr. William Henry                           </td> <td>male  </td> <td>35  </td> <td>0    </td> <td>0    </td> <td>373450          </td> <td>8.05   </td> <td>nan  </td> <td>S       </td>\n",
       "        </tr>\n",
       "    </tbody>\n",
       "        <tr>\n",
       "            <td>6          </td> <td>0       </td> <td>3     </td> <td>Moran, Mr. James                                   </td> <td>male  </td> <td>nan </td> <td>0    </td> <td>0    </td> <td>330877          </td> <td>8.4583 </td> <td>nan  </td> <td>Q       </td>\n",
       "        </tr>\n",
       "    </tbody>\n",
       "        <tr>\n",
       "            <td>7          </td> <td>0       </td> <td>1     </td> <td>McCarthy, Mr. Timothy J                            </td> <td>male  </td> <td>54  </td> <td>0    </td> <td>0    </td> <td>17463           </td> <td>51.8625</td> <td>E46  </td> <td>S       </td>\n",
       "        </tr>\n",
       "    </tbody>\n",
       "        <tr>\n",
       "            <td>8          </td> <td>0       </td> <td>3     </td> <td>Palsson, Master. Gosta Leonard                     </td> <td>male  </td> <td>2   </td> <td>3    </td> <td>1    </td> <td>349909          </td> <td>21.075 </td> <td>nan  </td> <td>S       </td>\n",
       "        </tr>\n",
       "    </tbody>\n",
       "        <tr>\n",
       "            <td>9          </td> <td>1       </td> <td>3     </td> <td>Johnson, Mrs. Oscar W (Elisabeth Vilhelmina Berg)  </td> <td>female</td> <td>27  </td> <td>0    </td> <td>2    </td> <td>347742          </td> <td>11.1333</td> <td>nan  </td> <td>S       </td>\n",
       "        </tr>\n",
       "    </tbody>\n",
       "        <tr>\n",
       "            <td>10         </td> <td>1       </td> <td>2     </td> <td>Nasser, Mrs. Nicholas (Adele Achem)                </td> <td>female</td> <td>14  </td> <td>1    </td> <td>0    </td> <td>237736          </td> <td>30.0708</td> <td>nan  </td> <td>C       </td>\n",
       "        </tr>\n",
       "    </tbody>\n",
       "</table>\n",
       "<p>... (881 rows omitted)</p>"
      ],
      "text/plain": [
       "PassengerId | Survived | Pclass | Name                                                | Sex    | Age  | SibSp | Parch | Ticket           | Fare    | Cabin | Embarked\n",
       "1           | 0        | 3      | Braund, Mr. Owen Harris                             | male   | 22   | 1     | 0     | A/5 21171        | 7.25    | nan   | S\n",
       "2           | 1        | 1      | Cumings, Mrs. John Bradley (Florence Briggs Thayer) | female | 38   | 1     | 0     | PC 17599         | 71.2833 | C85   | C\n",
       "3           | 1        | 3      | Heikkinen, Miss. Laina                              | female | 26   | 0     | 0     | STON/O2. 3101282 | 7.925   | nan   | S\n",
       "4           | 1        | 1      | Futrelle, Mrs. Jacques Heath (Lily May Peel)        | female | 35   | 1     | 0     | 113803           | 53.1    | C123  | S\n",
       "5           | 0        | 3      | Allen, Mr. William Henry                            | male   | 35   | 0     | 0     | 373450           | 8.05    | nan   | S\n",
       "6           | 0        | 3      | Moran, Mr. James                                    | male   | nan  | 0     | 0     | 330877           | 8.4583  | nan   | Q\n",
       "7           | 0        | 1      | McCarthy, Mr. Timothy J                             | male   | 54   | 0     | 0     | 17463            | 51.8625 | E46   | S\n",
       "8           | 0        | 3      | Palsson, Master. Gosta Leonard                      | male   | 2    | 3     | 1     | 349909           | 21.075  | nan   | S\n",
       "9           | 1        | 3      | Johnson, Mrs. Oscar W (Elisabeth Vilhelmina Berg)   | female | 27   | 0     | 2     | 347742           | 11.1333 | nan   | S\n",
       "10          | 1        | 2      | Nasser, Mrs. Nicholas (Adele Achem)                 | female | 14   | 1     | 0     | 237736           | 30.0708 | nan   | C\n",
       "... (881 rows omitted)"
      ]
     },
     "execution_count": 26,
     "metadata": {},
     "output_type": "execute_result"
    }
   ],
   "source": [
    "#4. Loading in the data set\n",
    "Titanic=Table.read_table(\"Titanic.csv\")\n",
    "Titanic"
   ]
  },
  {
   "cell_type": "code",
   "execution_count": 27,
   "metadata": {},
   "outputs": [
    {
     "data": {
      "text/html": [
       "<table border=\"1\" class=\"dataframe\">\n",
       "    <thead>\n",
       "        <tr>\n",
       "            <th>PassengerId</th> <th>Survived</th> <th>passenger_class</th> <th>Name</th> <th>Sex</th> <th>Age</th> <th>SibSp</th> <th>Parch</th> <th>Ticket</th> <th>Fare</th> <th>Cabin</th> <th>Embarked</th>\n",
       "        </tr>\n",
       "    </thead>\n",
       "    <tbody>\n",
       "        <tr>\n",
       "            <td>1          </td> <td>0       </td> <td>3              </td> <td>Braund, Mr. Owen Harris                            </td> <td>male  </td> <td>22  </td> <td>1    </td> <td>0    </td> <td>A/5 21171       </td> <td>7.25   </td> <td>nan  </td> <td>S       </td>\n",
       "        </tr>\n",
       "    </tbody>\n",
       "        <tr>\n",
       "            <td>2          </td> <td>1       </td> <td>1              </td> <td>Cumings, Mrs. John Bradley (Florence Briggs Thayer)</td> <td>female</td> <td>38  </td> <td>1    </td> <td>0    </td> <td>PC 17599        </td> <td>71.2833</td> <td>C85  </td> <td>C       </td>\n",
       "        </tr>\n",
       "    </tbody>\n",
       "        <tr>\n",
       "            <td>3          </td> <td>1       </td> <td>3              </td> <td>Heikkinen, Miss. Laina                             </td> <td>female</td> <td>26  </td> <td>0    </td> <td>0    </td> <td>STON/O2. 3101282</td> <td>7.925  </td> <td>nan  </td> <td>S       </td>\n",
       "        </tr>\n",
       "    </tbody>\n",
       "        <tr>\n",
       "            <td>4          </td> <td>1       </td> <td>1              </td> <td>Futrelle, Mrs. Jacques Heath (Lily May Peel)       </td> <td>female</td> <td>35  </td> <td>1    </td> <td>0    </td> <td>113803          </td> <td>53.1   </td> <td>C123 </td> <td>S       </td>\n",
       "        </tr>\n",
       "    </tbody>\n",
       "        <tr>\n",
       "            <td>5          </td> <td>0       </td> <td>3              </td> <td>Allen, Mr. William Henry                           </td> <td>male  </td> <td>35  </td> <td>0    </td> <td>0    </td> <td>373450          </td> <td>8.05   </td> <td>nan  </td> <td>S       </td>\n",
       "        </tr>\n",
       "    </tbody>\n",
       "        <tr>\n",
       "            <td>6          </td> <td>0       </td> <td>3              </td> <td>Moran, Mr. James                                   </td> <td>male  </td> <td>nan </td> <td>0    </td> <td>0    </td> <td>330877          </td> <td>8.4583 </td> <td>nan  </td> <td>Q       </td>\n",
       "        </tr>\n",
       "    </tbody>\n",
       "        <tr>\n",
       "            <td>7          </td> <td>0       </td> <td>1              </td> <td>McCarthy, Mr. Timothy J                            </td> <td>male  </td> <td>54  </td> <td>0    </td> <td>0    </td> <td>17463           </td> <td>51.8625</td> <td>E46  </td> <td>S       </td>\n",
       "        </tr>\n",
       "    </tbody>\n",
       "        <tr>\n",
       "            <td>8          </td> <td>0       </td> <td>3              </td> <td>Palsson, Master. Gosta Leonard                     </td> <td>male  </td> <td>2   </td> <td>3    </td> <td>1    </td> <td>349909          </td> <td>21.075 </td> <td>nan  </td> <td>S       </td>\n",
       "        </tr>\n",
       "    </tbody>\n",
       "        <tr>\n",
       "            <td>9          </td> <td>1       </td> <td>3              </td> <td>Johnson, Mrs. Oscar W (Elisabeth Vilhelmina Berg)  </td> <td>female</td> <td>27  </td> <td>0    </td> <td>2    </td> <td>347742          </td> <td>11.1333</td> <td>nan  </td> <td>S       </td>\n",
       "        </tr>\n",
       "    </tbody>\n",
       "        <tr>\n",
       "            <td>10         </td> <td>1       </td> <td>2              </td> <td>Nasser, Mrs. Nicholas (Adele Achem)                </td> <td>female</td> <td>14  </td> <td>1    </td> <td>0    </td> <td>237736          </td> <td>30.0708</td> <td>nan  </td> <td>C       </td>\n",
       "        </tr>\n",
       "    </tbody>\n",
       "</table>\n",
       "<p>... (881 rows omitted)</p>"
      ],
      "text/plain": [
       "PassengerId | Survived | passenger_class | Name                                                | Sex    | Age  | SibSp | Parch | Ticket           | Fare    | Cabin | Embarked\n",
       "1           | 0        | 3               | Braund, Mr. Owen Harris                             | male   | 22   | 1     | 0     | A/5 21171        | 7.25    | nan   | S\n",
       "2           | 1        | 1               | Cumings, Mrs. John Bradley (Florence Briggs Thayer) | female | 38   | 1     | 0     | PC 17599         | 71.2833 | C85   | C\n",
       "3           | 1        | 3               | Heikkinen, Miss. Laina                              | female | 26   | 0     | 0     | STON/O2. 3101282 | 7.925   | nan   | S\n",
       "4           | 1        | 1               | Futrelle, Mrs. Jacques Heath (Lily May Peel)        | female | 35   | 1     | 0     | 113803           | 53.1    | C123  | S\n",
       "5           | 0        | 3               | Allen, Mr. William Henry                            | male   | 35   | 0     | 0     | 373450           | 8.05    | nan   | S\n",
       "6           | 0        | 3               | Moran, Mr. James                                    | male   | nan  | 0     | 0     | 330877           | 8.4583  | nan   | Q\n",
       "7           | 0        | 1               | McCarthy, Mr. Timothy J                             | male   | 54   | 0     | 0     | 17463            | 51.8625 | E46   | S\n",
       "8           | 0        | 3               | Palsson, Master. Gosta Leonard                      | male   | 2    | 3     | 1     | 349909           | 21.075  | nan   | S\n",
       "9           | 1        | 3               | Johnson, Mrs. Oscar W (Elisabeth Vilhelmina Berg)   | female | 27   | 0     | 2     | 347742           | 11.1333 | nan   | S\n",
       "10          | 1        | 2               | Nasser, Mrs. Nicholas (Adele Achem)                 | female | 14   | 1     | 0     | 237736           | 30.0708 | nan   | C\n",
       "... (881 rows omitted)"
      ]
     },
     "execution_count": 27,
     "metadata": {},
     "output_type": "execute_result"
    }
   ],
   "source": [
    "#a. Using the relabel command, I relabelled the Pclass column to passenger_class\n",
    "Titanic.relabel(\"Pclass\",\"passenger_class\")"
   ]
  },
  {
   "cell_type": "code",
   "execution_count": 30,
   "metadata": {},
   "outputs": [
    {
     "data": {
      "text/html": [
       "<table border=\"1\" class=\"dataframe\">\n",
       "    <thead>\n",
       "        <tr>\n",
       "            <th>PassengerId</th> <th>Survived</th> <th>passenger_class</th> <th>Name</th> <th>Sex</th> <th>Age</th> <th>SibSp</th> <th>Parch</th> <th>Ticket</th> <th>Fare</th> <th>Cabin</th> <th>Embarked</th> <th>family_size</th>\n",
       "        </tr>\n",
       "    </thead>\n",
       "    <tbody>\n",
       "        <tr>\n",
       "            <td>1          </td> <td>0       </td> <td>3              </td> <td>Braund, Mr. Owen Harris                            </td> <td>male  </td> <td>22  </td> <td>1    </td> <td>0    </td> <td>A/5 21171       </td> <td>7.25   </td> <td>nan  </td> <td>S       </td> <td>1          </td>\n",
       "        </tr>\n",
       "    </tbody>\n",
       "        <tr>\n",
       "            <td>2          </td> <td>1       </td> <td>1              </td> <td>Cumings, Mrs. John Bradley (Florence Briggs Thayer)</td> <td>female</td> <td>38  </td> <td>1    </td> <td>0    </td> <td>PC 17599        </td> <td>71.2833</td> <td>C85  </td> <td>C       </td> <td>1          </td>\n",
       "        </tr>\n",
       "    </tbody>\n",
       "        <tr>\n",
       "            <td>3          </td> <td>1       </td> <td>3              </td> <td>Heikkinen, Miss. Laina                             </td> <td>female</td> <td>26  </td> <td>0    </td> <td>0    </td> <td>STON/O2. 3101282</td> <td>7.925  </td> <td>nan  </td> <td>S       </td> <td>0          </td>\n",
       "        </tr>\n",
       "    </tbody>\n",
       "        <tr>\n",
       "            <td>4          </td> <td>1       </td> <td>1              </td> <td>Futrelle, Mrs. Jacques Heath (Lily May Peel)       </td> <td>female</td> <td>35  </td> <td>1    </td> <td>0    </td> <td>113803          </td> <td>53.1   </td> <td>C123 </td> <td>S       </td> <td>1          </td>\n",
       "        </tr>\n",
       "    </tbody>\n",
       "        <tr>\n",
       "            <td>5          </td> <td>0       </td> <td>3              </td> <td>Allen, Mr. William Henry                           </td> <td>male  </td> <td>35  </td> <td>0    </td> <td>0    </td> <td>373450          </td> <td>8.05   </td> <td>nan  </td> <td>S       </td> <td>0          </td>\n",
       "        </tr>\n",
       "    </tbody>\n",
       "        <tr>\n",
       "            <td>6          </td> <td>0       </td> <td>3              </td> <td>Moran, Mr. James                                   </td> <td>male  </td> <td>nan </td> <td>0    </td> <td>0    </td> <td>330877          </td> <td>8.4583 </td> <td>nan  </td> <td>Q       </td> <td>0          </td>\n",
       "        </tr>\n",
       "    </tbody>\n",
       "        <tr>\n",
       "            <td>7          </td> <td>0       </td> <td>1              </td> <td>McCarthy, Mr. Timothy J                            </td> <td>male  </td> <td>54  </td> <td>0    </td> <td>0    </td> <td>17463           </td> <td>51.8625</td> <td>E46  </td> <td>S       </td> <td>0          </td>\n",
       "        </tr>\n",
       "    </tbody>\n",
       "        <tr>\n",
       "            <td>8          </td> <td>0       </td> <td>3              </td> <td>Palsson, Master. Gosta Leonard                     </td> <td>male  </td> <td>2   </td> <td>3    </td> <td>1    </td> <td>349909          </td> <td>21.075 </td> <td>nan  </td> <td>S       </td> <td>4          </td>\n",
       "        </tr>\n",
       "    </tbody>\n",
       "        <tr>\n",
       "            <td>9          </td> <td>1       </td> <td>3              </td> <td>Johnson, Mrs. Oscar W (Elisabeth Vilhelmina Berg)  </td> <td>female</td> <td>27  </td> <td>0    </td> <td>2    </td> <td>347742          </td> <td>11.1333</td> <td>nan  </td> <td>S       </td> <td>2          </td>\n",
       "        </tr>\n",
       "    </tbody>\n",
       "        <tr>\n",
       "            <td>10         </td> <td>1       </td> <td>2              </td> <td>Nasser, Mrs. Nicholas (Adele Achem)                </td> <td>female</td> <td>14  </td> <td>1    </td> <td>0    </td> <td>237736          </td> <td>30.0708</td> <td>nan  </td> <td>C       </td> <td>1          </td>\n",
       "        </tr>\n",
       "    </tbody>\n",
       "</table>\n",
       "<p>... (881 rows omitted)</p>"
      ],
      "text/plain": [
       "PassengerId | Survived | passenger_class | Name                                                | Sex    | Age  | SibSp | Parch | Ticket           | Fare    | Cabin | Embarked | family_size\n",
       "1           | 0        | 3               | Braund, Mr. Owen Harris                             | male   | 22   | 1     | 0     | A/5 21171        | 7.25    | nan   | S        | 1\n",
       "2           | 1        | 1               | Cumings, Mrs. John Bradley (Florence Briggs Thayer) | female | 38   | 1     | 0     | PC 17599         | 71.2833 | C85   | C        | 1\n",
       "3           | 1        | 3               | Heikkinen, Miss. Laina                              | female | 26   | 0     | 0     | STON/O2. 3101282 | 7.925   | nan   | S        | 0\n",
       "4           | 1        | 1               | Futrelle, Mrs. Jacques Heath (Lily May Peel)        | female | 35   | 1     | 0     | 113803           | 53.1    | C123  | S        | 1\n",
       "5           | 0        | 3               | Allen, Mr. William Henry                            | male   | 35   | 0     | 0     | 373450           | 8.05    | nan   | S        | 0\n",
       "6           | 0        | 3               | Moran, Mr. James                                    | male   | nan  | 0     | 0     | 330877           | 8.4583  | nan   | Q        | 0\n",
       "7           | 0        | 1               | McCarthy, Mr. Timothy J                             | male   | 54   | 0     | 0     | 17463            | 51.8625 | E46   | S        | 0\n",
       "8           | 0        | 3               | Palsson, Master. Gosta Leonard                      | male   | 2    | 3     | 1     | 349909           | 21.075  | nan   | S        | 4\n",
       "9           | 1        | 3               | Johnson, Mrs. Oscar W (Elisabeth Vilhelmina Berg)   | female | 27   | 0     | 2     | 347742           | 11.1333 | nan   | S        | 2\n",
       "10          | 1        | 2               | Nasser, Mrs. Nicholas (Adele Achem)                 | female | 14   | 1     | 0     | 237736           | 30.0708 | nan   | C        | 1\n",
       "... (881 rows omitted)"
      ]
     },
     "execution_count": 30,
     "metadata": {},
     "output_type": "execute_result"
    }
   ],
   "source": [
    "#b. I am creating the array of the size of each family and then using the with_column command to add it to the Table\n",
    "family_size=Titanic.column(\"SibSp\")+Titanic.column(\"Parch\")\n",
    "Titanic.with_column(\"family_size\",family_size)"
   ]
  },
  {
   "cell_type": "code",
   "execution_count": 52,
   "metadata": {},
   "outputs": [
    {
     "ename": "AssertionError",
     "evalue": "incorrect columns format",
     "output_type": "error",
     "traceback": [
      "\u001b[1;31m---------------------------------------------------------------------------\u001b[0m",
      "\u001b[1;31mAssertionError\u001b[0m                            Traceback (most recent call last)",
      "\u001b[1;32m<ipython-input-52-1624bd7e3af2>\u001b[0m in \u001b[0;36m<module>\u001b[1;34m()\u001b[0m\n\u001b[0;32m      1\u001b[0m \u001b[0mCount_array\u001b[0m\u001b[1;33m=\u001b[0m\u001b[0mmake_array\u001b[0m\u001b[1;33m(\u001b[0m\u001b[0mnp\u001b[0m\u001b[1;33m.\u001b[0m\u001b[0mchar\u001b[0m\u001b[1;33m.\u001b[0m\u001b[0mcount\u001b[0m\u001b[1;33m(\u001b[0m\u001b[0mstr\u001b[0m\u001b[1;33m(\u001b[0m\u001b[0mTitanic\u001b[0m\u001b[1;33m.\u001b[0m\u001b[0mcolumn\u001b[0m\u001b[1;33m(\u001b[0m\u001b[1;34m\"passenger_class\"\u001b[0m\u001b[1;33m)\u001b[0m\u001b[1;33m)\u001b[0m\u001b[1;33m,\u001b[0m\u001b[1;34m\"1\"\u001b[0m\u001b[1;33m)\u001b[0m\u001b[1;33m,\u001b[0m \u001b[0mnp\u001b[0m\u001b[1;33m.\u001b[0m\u001b[0mchar\u001b[0m\u001b[1;33m.\u001b[0m\u001b[0mcount\u001b[0m\u001b[1;33m(\u001b[0m\u001b[0mstr\u001b[0m\u001b[1;33m(\u001b[0m\u001b[0mTitanic\u001b[0m\u001b[1;33m.\u001b[0m\u001b[0mcolumn\u001b[0m\u001b[1;33m(\u001b[0m\u001b[1;34m\"passenger_class\"\u001b[0m\u001b[1;33m)\u001b[0m\u001b[1;33m)\u001b[0m\u001b[1;33m,\u001b[0m\u001b[1;34m\"2\"\u001b[0m\u001b[1;33m)\u001b[0m\u001b[1;33m.\u001b[0m\u001b[0mitem\u001b[0m\u001b[1;33m(\u001b[0m\u001b[1;36m0\u001b[0m\u001b[1;33m)\u001b[0m\u001b[1;33m,\u001b[0m \u001b[0mnp\u001b[0m\u001b[1;33m.\u001b[0m\u001b[0mchar\u001b[0m\u001b[1;33m.\u001b[0m\u001b[0mcount\u001b[0m\u001b[1;33m(\u001b[0m\u001b[0mstr\u001b[0m\u001b[1;33m(\u001b[0m\u001b[0mTitanic\u001b[0m\u001b[1;33m.\u001b[0m\u001b[0mcolumn\u001b[0m\u001b[1;33m(\u001b[0m\u001b[1;34m\"passenger_class\"\u001b[0m\u001b[1;33m)\u001b[0m\u001b[1;33m)\u001b[0m\u001b[1;33m,\u001b[0m\u001b[1;34m\"3\"\u001b[0m\u001b[1;33m)\u001b[0m\u001b[1;33m.\u001b[0m\u001b[0mitem\u001b[0m\u001b[1;33m(\u001b[0m\u001b[1;36m0\u001b[0m\u001b[1;33m)\u001b[0m\u001b[1;33m)\u001b[0m\u001b[1;33m\u001b[0m\u001b[0m\n\u001b[1;32m----> 2\u001b[1;33m \u001b[0mArray\u001b[0m\u001b[1;33m=\u001b[0m\u001b[0mTable\u001b[0m\u001b[1;33m.\u001b[0m\u001b[0mwith_columns\u001b[0m\u001b[1;33m(\u001b[0m\u001b[1;34m\"Class\"\u001b[0m\u001b[1;33m,\u001b[0m\u001b[0mmake_array\u001b[0m\u001b[1;33m(\u001b[0m\u001b[1;36m1\u001b[0m\u001b[1;33m,\u001b[0m\u001b[1;36m2\u001b[0m\u001b[1;33m,\u001b[0m\u001b[1;36m3\u001b[0m\u001b[1;33m)\u001b[0m\u001b[1;33m,\u001b[0m\u001b[1;34m\"Count\"\u001b[0m\u001b[1;33m,\u001b[0m\u001b[0mCount_array\u001b[0m\u001b[1;33m)\u001b[0m\u001b[1;33m\u001b[0m\u001b[0m\n\u001b[0m\u001b[0;32m      3\u001b[0m \u001b[0mArray\u001b[0m\u001b[1;33m\u001b[0m\u001b[0m\n",
      "\u001b[1;32m~\\Math 377\\datascience\\tables.py\u001b[0m in \u001b[0;36mwith_columns\u001b[1;34m(self, *labels_and_values)\u001b[0m\n\u001b[0;32m   1676\u001b[0m         \u001b[1;32mif\u001b[0m \u001b[1;32mnot\u001b[0m \u001b[0misinstance\u001b[0m\u001b[1;33m(\u001b[0m\u001b[0mfirst\u001b[0m\u001b[1;33m,\u001b[0m \u001b[0mstr\u001b[0m\u001b[1;33m)\u001b[0m \u001b[1;32mand\u001b[0m \u001b[0mhasattr\u001b[0m\u001b[1;33m(\u001b[0m\u001b[0mfirst\u001b[0m\u001b[1;33m,\u001b[0m \u001b[1;34m'__iter__'\u001b[0m\u001b[1;33m)\u001b[0m\u001b[1;33m:\u001b[0m\u001b[1;33m\u001b[0m\u001b[0m\n\u001b[0;32m   1677\u001b[0m             \u001b[1;32mfor\u001b[0m \u001b[0mpair\u001b[0m \u001b[1;32min\u001b[0m \u001b[0mlabels_and_values\u001b[0m\u001b[1;33m:\u001b[0m\u001b[1;33m\u001b[0m\u001b[0m\n\u001b[1;32m-> 1678\u001b[1;33m                 \u001b[1;32massert\u001b[0m \u001b[0mlen\u001b[0m\u001b[1;33m(\u001b[0m\u001b[0mpair\u001b[0m\u001b[1;33m)\u001b[0m \u001b[1;33m==\u001b[0m \u001b[1;36m2\u001b[0m\u001b[1;33m,\u001b[0m \u001b[1;34m'incorrect columns format'\u001b[0m\u001b[1;33m\u001b[0m\u001b[0m\n\u001b[0m\u001b[0;32m   1679\u001b[0m             \u001b[0mlabels_and_values\u001b[0m \u001b[1;33m=\u001b[0m \u001b[1;33m[\u001b[0m\u001b[0mx\u001b[0m \u001b[1;32mfor\u001b[0m \u001b[0mpair\u001b[0m \u001b[1;32min\u001b[0m \u001b[0mlabels_and_values\u001b[0m \u001b[1;32mfor\u001b[0m \u001b[0mx\u001b[0m \u001b[1;32min\u001b[0m \u001b[0mpair\u001b[0m\u001b[1;33m]\u001b[0m\u001b[1;33m\u001b[0m\u001b[0m\n\u001b[0;32m   1680\u001b[0m         \u001b[1;32massert\u001b[0m \u001b[0mlen\u001b[0m\u001b[1;33m(\u001b[0m\u001b[0mlabels_and_values\u001b[0m\u001b[1;33m)\u001b[0m \u001b[1;33m%\u001b[0m \u001b[1;36m2\u001b[0m \u001b[1;33m==\u001b[0m \u001b[1;36m0\u001b[0m\u001b[1;33m,\u001b[0m \u001b[1;34m'Even length sequence required'\u001b[0m\u001b[1;33m\u001b[0m\u001b[0m\n",
      "\u001b[1;31mAssertionError\u001b[0m: incorrect columns format"
     ]
    }
   ],
   "source": [
    "#c.\n",
    "Count_array=make_array(np.char.count(str(Titanic.column(\"passenger_class\")),\"1\"),\n",
    "                       np.char.count(str(Titanic.column(\"passenger_class\")),\"2\"),\n",
    "                       np.char.count(str(Titanic.column(\"passenger_class\")),\"3\"))\n",
    "Array=Table.with_columns(\"Class\",make_array(1,2,3),\"Count\",Count_array)\n",
    "Array"
   ]
  },
  {
   "cell_type": "code",
   "execution_count": 53,
   "metadata": {},
   "outputs": [
    {
     "data": {
      "text/html": [
       "<table border=\"1\" class=\"dataframe\">\n",
       "    <thead>\n",
       "        <tr>\n",
       "            <th>PassengerId</th> <th>Survived</th> <th>passenger_class</th> <th>Name</th> <th>Sex</th> <th>Age</th> <th>SibSp</th> <th>Parch</th> <th>Ticket</th> <th>Fare</th> <th>Cabin</th> <th>Embarked</th>\n",
       "        </tr>\n",
       "    </thead>\n",
       "    <tbody>\n",
       "        <tr>\n",
       "            <td>804        </td> <td>1       </td> <td>3              </td> <td>Thomas, Master. Assad Alexander</td> <td>male  </td> <td>0.42</td> <td>0    </td> <td>1    </td> <td>2625   </td> <td>8.5167 </td> <td>nan    </td> <td>C       </td>\n",
       "        </tr>\n",
       "    </tbody>\n",
       "        <tr>\n",
       "            <td>756        </td> <td>1       </td> <td>2              </td> <td>Hamalainen, Master. Viljo      </td> <td>male  </td> <td>0.67</td> <td>1    </td> <td>1    </td> <td>250649 </td> <td>14.5   </td> <td>nan    </td> <td>S       </td>\n",
       "        </tr>\n",
       "    </tbody>\n",
       "        <tr>\n",
       "            <td>470        </td> <td>1       </td> <td>3              </td> <td>Baclini, Miss. Helene Barbara  </td> <td>female</td> <td>0.75</td> <td>2    </td> <td>1    </td> <td>2666   </td> <td>19.2583</td> <td>nan    </td> <td>C       </td>\n",
       "        </tr>\n",
       "    </tbody>\n",
       "        <tr>\n",
       "            <td>645        </td> <td>1       </td> <td>3              </td> <td>Baclini, Miss. Eugenie         </td> <td>female</td> <td>0.75</td> <td>2    </td> <td>1    </td> <td>2666   </td> <td>19.2583</td> <td>nan    </td> <td>C       </td>\n",
       "        </tr>\n",
       "    </tbody>\n",
       "        <tr>\n",
       "            <td>79         </td> <td>1       </td> <td>2              </td> <td>Caldwell, Master. Alden Gates  </td> <td>male  </td> <td>0.83</td> <td>0    </td> <td>2    </td> <td>248738 </td> <td>29     </td> <td>nan    </td> <td>S       </td>\n",
       "        </tr>\n",
       "    </tbody>\n",
       "        <tr>\n",
       "            <td>832        </td> <td>1       </td> <td>2              </td> <td>Richards, Master. George Sibley</td> <td>male  </td> <td>0.83</td> <td>1    </td> <td>1    </td> <td>29106  </td> <td>18.75  </td> <td>nan    </td> <td>S       </td>\n",
       "        </tr>\n",
       "    </tbody>\n",
       "        <tr>\n",
       "            <td>306        </td> <td>1       </td> <td>1              </td> <td>Allison, Master. Hudson Trevor </td> <td>male  </td> <td>0.92</td> <td>1    </td> <td>2    </td> <td>113781 </td> <td>151.55 </td> <td>C22 C26</td> <td>S       </td>\n",
       "        </tr>\n",
       "    </tbody>\n",
       "        <tr>\n",
       "            <td>165        </td> <td>0       </td> <td>3              </td> <td>Panula, Master. Eino Viljami   </td> <td>male  </td> <td>1   </td> <td>4    </td> <td>1    </td> <td>3101295</td> <td>39.6875</td> <td>nan    </td> <td>S       </td>\n",
       "        </tr>\n",
       "    </tbody>\n",
       "        <tr>\n",
       "            <td>173        </td> <td>1       </td> <td>3              </td> <td>Johnson, Miss. Eleanor Ileen   </td> <td>female</td> <td>1   </td> <td>1    </td> <td>1    </td> <td>347742 </td> <td>11.1333</td> <td>nan    </td> <td>S       </td>\n",
       "        </tr>\n",
       "    </tbody>\n",
       "        <tr>\n",
       "            <td>184        </td> <td>1       </td> <td>2              </td> <td>Becker, Master. Richard F      </td> <td>male  </td> <td>1   </td> <td>2    </td> <td>1    </td> <td>230136 </td> <td>39     </td> <td>F4     </td> <td>S       </td>\n",
       "        </tr>\n",
       "    </tbody>\n",
       "</table>\n",
       "<p>... (881 rows omitted)</p>"
      ],
      "text/plain": [
       "PassengerId | Survived | passenger_class | Name                            | Sex    | Age  | SibSp | Parch | Ticket  | Fare    | Cabin   | Embarked\n",
       "804         | 1        | 3               | Thomas, Master. Assad Alexander | male   | 0.42 | 0     | 1     | 2625    | 8.5167  | nan     | C\n",
       "756         | 1        | 2               | Hamalainen, Master. Viljo       | male   | 0.67 | 1     | 1     | 250649  | 14.5    | nan     | S\n",
       "470         | 1        | 3               | Baclini, Miss. Helene Barbara   | female | 0.75 | 2     | 1     | 2666    | 19.2583 | nan     | C\n",
       "645         | 1        | 3               | Baclini, Miss. Eugenie          | female | 0.75 | 2     | 1     | 2666    | 19.2583 | nan     | C\n",
       "79          | 1        | 2               | Caldwell, Master. Alden Gates   | male   | 0.83 | 0     | 2     | 248738  | 29      | nan     | S\n",
       "832         | 1        | 2               | Richards, Master. George Sibley | male   | 0.83 | 1     | 1     | 29106   | 18.75   | nan     | S\n",
       "306         | 1        | 1               | Allison, Master. Hudson Trevor  | male   | 0.92 | 1     | 2     | 113781  | 151.55  | C22 C26 | S\n",
       "165         | 0        | 3               | Panula, Master. Eino Viljami    | male   | 1    | 4     | 1     | 3101295 | 39.6875 | nan     | S\n",
       "173         | 1        | 3               | Johnson, Miss. Eleanor Ileen    | female | 1    | 1     | 1     | 347742  | 11.1333 | nan     | S\n",
       "184         | 1        | 2               | Becker, Master. Richard F       | male   | 1    | 2     | 1     | 230136  | 39      | F4      | S\n",
       "... (881 rows omitted)"
      ]
     },
     "execution_count": 53,
     "metadata": {},
     "output_type": "execute_result"
    }
   ],
   "source": [
    "#d.\n",
    "Titanic.sort(\"Age\")"
   ]
  },
  {
   "cell_type": "code",
   "execution_count": 55,
   "metadata": {},
   "outputs": [
    {
     "data": {
      "text/html": [
       "<table border=\"1\" class=\"dataframe\">\n",
       "    <thead>\n",
       "        <tr>\n",
       "            <th>PassengerId</th> <th>Survived</th> <th>passenger_class</th> <th>Name</th> <th>Sex</th> <th>Age</th> <th>SibSp</th> <th>Parch</th> <th>Ticket</th> <th>Fare</th> <th>Cabin</th> <th>Embarked</th>\n",
       "        </tr>\n",
       "    </thead>\n",
       "    <tbody>\n",
       "        <tr>\n",
       "            <td>889        </td> <td>0       </td> <td>3              </td> <td>Johnston, Miss. Catherine Helen \"Carrie\"    </td> <td>female</td> <td>nan </td> <td>1    </td> <td>2    </td> <td>W./C. 6607</td> <td>23.45  </td> <td>nan  </td> <td>S       </td>\n",
       "        </tr>\n",
       "    </tbody>\n",
       "        <tr>\n",
       "            <td>879        </td> <td>0       </td> <td>3              </td> <td>Laleff, Mr. Kristo                          </td> <td>male  </td> <td>nan </td> <td>0    </td> <td>0    </td> <td>349217    </td> <td>7.8958 </td> <td>nan  </td> <td>S       </td>\n",
       "        </tr>\n",
       "    </tbody>\n",
       "        <tr>\n",
       "            <td>869        </td> <td>0       </td> <td>3              </td> <td>van Melkebeke, Mr. Philemon                 </td> <td>male  </td> <td>nan </td> <td>0    </td> <td>0    </td> <td>345777    </td> <td>9.5    </td> <td>nan  </td> <td>S       </td>\n",
       "        </tr>\n",
       "    </tbody>\n",
       "        <tr>\n",
       "            <td>864        </td> <td>0       </td> <td>3              </td> <td>Sage, Miss. Dorothy Edith \"Dolly\"           </td> <td>female</td> <td>nan </td> <td>8    </td> <td>2    </td> <td>CA. 2343  </td> <td>69.55  </td> <td>nan  </td> <td>S       </td>\n",
       "        </tr>\n",
       "    </tbody>\n",
       "        <tr>\n",
       "            <td>860        </td> <td>0       </td> <td>3              </td> <td>Razi, Mr. Raihed                            </td> <td>male  </td> <td>nan </td> <td>0    </td> <td>0    </td> <td>2629      </td> <td>7.2292 </td> <td>nan  </td> <td>C       </td>\n",
       "        </tr>\n",
       "    </tbody>\n",
       "        <tr>\n",
       "            <td>850        </td> <td>1       </td> <td>1              </td> <td>Goldenberg, Mrs. Samuel L (Edwiga Grabowska)</td> <td>female</td> <td>nan </td> <td>1    </td> <td>0    </td> <td>17453     </td> <td>89.1042</td> <td>C92  </td> <td>C       </td>\n",
       "        </tr>\n",
       "    </tbody>\n",
       "        <tr>\n",
       "            <td>847        </td> <td>0       </td> <td>3              </td> <td>Sage, Mr. Douglas Bullen                    </td> <td>male  </td> <td>nan </td> <td>8    </td> <td>2    </td> <td>CA. 2343  </td> <td>69.55  </td> <td>nan  </td> <td>S       </td>\n",
       "        </tr>\n",
       "    </tbody>\n",
       "        <tr>\n",
       "            <td>840        </td> <td>1       </td> <td>1              </td> <td>Marechal, Mr. Pierre                        </td> <td>male  </td> <td>nan </td> <td>0    </td> <td>0    </td> <td>11774     </td> <td>29.7   </td> <td>C47  </td> <td>C       </td>\n",
       "        </tr>\n",
       "    </tbody>\n",
       "        <tr>\n",
       "            <td>838        </td> <td>0       </td> <td>3              </td> <td>Sirota, Mr. Maurice                         </td> <td>male  </td> <td>nan </td> <td>0    </td> <td>0    </td> <td>392092    </td> <td>8.05   </td> <td>nan  </td> <td>S       </td>\n",
       "        </tr>\n",
       "    </tbody>\n",
       "        <tr>\n",
       "            <td>833        </td> <td>0       </td> <td>3              </td> <td>Saad, Mr. Amin                              </td> <td>male  </td> <td>nan </td> <td>0    </td> <td>0    </td> <td>2671      </td> <td>7.2292 </td> <td>nan  </td> <td>C       </td>\n",
       "        </tr>\n",
       "    </tbody>\n",
       "</table>\n",
       "<p>... (881 rows omitted)</p>"
      ],
      "text/plain": [
       "PassengerId | Survived | passenger_class | Name                                         | Sex    | Age  | SibSp | Parch | Ticket     | Fare    | Cabin | Embarked\n",
       "889         | 0        | 3               | Johnston, Miss. Catherine Helen \"Carrie\"     | female | nan  | 1     | 2     | W./C. 6607 | 23.45   | nan   | S\n",
       "879         | 0        | 3               | Laleff, Mr. Kristo                           | male   | nan  | 0     | 0     | 349217     | 7.8958  | nan   | S\n",
       "869         | 0        | 3               | van Melkebeke, Mr. Philemon                  | male   | nan  | 0     | 0     | 345777     | 9.5     | nan   | S\n",
       "864         | 0        | 3               | Sage, Miss. Dorothy Edith \"Dolly\"            | female | nan  | 8     | 2     | CA. 2343   | 69.55   | nan   | S\n",
       "860         | 0        | 3               | Razi, Mr. Raihed                             | male   | nan  | 0     | 0     | 2629       | 7.2292  | nan   | C\n",
       "850         | 1        | 1               | Goldenberg, Mrs. Samuel L (Edwiga Grabowska) | female | nan  | 1     | 0     | 17453      | 89.1042 | C92   | C\n",
       "847         | 0        | 3               | Sage, Mr. Douglas Bullen                     | male   | nan  | 8     | 2     | CA. 2343   | 69.55   | nan   | S\n",
       "840         | 1        | 1               | Marechal, Mr. Pierre                         | male   | nan  | 0     | 0     | 11774      | 29.7    | C47   | C\n",
       "838         | 0        | 3               | Sirota, Mr. Maurice                          | male   | nan  | 0     | 0     | 392092     | 8.05    | nan   | S\n",
       "833         | 0        | 3               | Saad, Mr. Amin                               | male   | nan  | 0     | 0     | 2671       | 7.2292  | nan   | C\n",
       "... (881 rows omitted)"
      ]
     },
     "execution_count": 55,
     "metadata": {},
     "output_type": "execute_result"
    }
   ],
   "source": [
    "#e.\n",
    "Titanic.sort(\"Age\",descending=True)"
   ]
  },
  {
   "cell_type": "code",
   "execution_count": null,
   "metadata": {},
   "outputs": [],
   "source": []
  }
 ],
 "metadata": {
  "kernelspec": {
   "display_name": "Python 3",
   "language": "python",
   "name": "python3"
  },
  "language_info": {
   "codemirror_mode": {
    "name": "ipython",
    "version": 3
   },
   "file_extension": ".py",
   "mimetype": "text/x-python",
   "name": "python",
   "nbconvert_exporter": "python",
   "pygments_lexer": "ipython3",
   "version": "3.6.5"
  }
 },
 "nbformat": 4,
 "nbformat_minor": 2
}
