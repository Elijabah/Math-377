{
 "cells": [
  {
   "cell_type": "markdown",
   "metadata": {},
   "source": [
    "# Lesson 4\n",
    "### Questions\n",
    "1. Create 3 variables for name (first and last), age and hometown. Assign to these variables your own name, age and hometown. Now, recreate the following sentence using variable assignment and the ‘print’ command in Python:\n",
    "“I am (Your name here). I am (age) years old. I’m from (hometown).”\n",
    "a. Now, use a string method to make your name lower case. Print the all lower case version of your name.\n",
    "b. Now use a string method to make your full name a proper noun. Print this version of your name.\n",
    "2. Using the ‘replace’ method, replace all “I am” with “he is” or “she is” and all “I’m” with “he’s” or “she’s”.\n",
    "3. Return a boolean response indicating whether the length of your original sentence (in #1) is greater than your age plus 40."
   ]
  },
  {
   "cell_type": "markdown",
   "metadata": {},
   "source": [
    "### Responses"
   ]
  },
  {
   "cell_type": "markdown",
   "metadata": {},
   "source": [
    "1. I am Elijah Evers from Milwaukee, WI and 19 years old."
   ]
  },
  {
   "cell_type": "code",
   "execution_count": 64,
   "metadata": {},
   "outputs": [],
   "source": [
    "#Here I am initializing the three requested vairables.\n",
    "name='Elijah Evers'\n",
    "town='Milwaukee, WI'\n",
    "age='19'"
   ]
  },
  {
   "cell_type": "code",
   "execution_count": 65,
   "metadata": {},
   "outputs": [
    {
     "name": "stdout",
     "output_type": "stream",
     "text": [
      "I am Elijah Evers. I am 19 years old. I’m from Milwaukee, WI.\n"
     ]
    }
   ],
   "source": [
    "#Here I am establishing the phrase that will be used throughout the lessons material.\n",
    "Phrase='I am ' + name + '. I am ' + age + ' years old. I’m from ' + town + '.'\n",
    "print(Phrase)"
   ]
  },
  {
   "cell_type": "code",
   "execution_count": 66,
   "metadata": {},
   "outputs": [
    {
     "data": {
      "text/plain": [
       "'elijah evers'"
      ]
     },
     "execution_count": 66,
     "metadata": {},
     "output_type": "execute_result"
    }
   ],
   "source": [
    "#I am using the lower function to make all letters lowercase\n",
    "name=name.lower()\n",
    "name"
   ]
  },
  {
   "cell_type": "code",
   "execution_count": 67,
   "metadata": {},
   "outputs": [
    {
     "data": {
      "text/plain": [
       "'Elijah Evers'"
      ]
     },
     "execution_count": 67,
     "metadata": {},
     "output_type": "execute_result"
    }
   ],
   "source": [
    "#I am using the title function to capitalize the first letter of each word.\n",
    "name=name.title()\n",
    "name"
   ]
  },
  {
   "cell_type": "code",
   "execution_count": 68,
   "metadata": {},
   "outputs": [
    {
     "name": "stdout",
     "output_type": "stream",
     "text": [
      "He is Elijah Evers. He is 19 years old. I’m from Milwaukee, WI.\n"
     ]
    }
   ],
   "source": [
    "#2. By using the replace function I can make the phrase be stated in third person.\n",
    "Phrase1=Phrase.replace(\"I am\",\"He is\")\n",
    "print(Phrase1.replace(\"I'm\",\"He's\"))"
   ]
  },
  {
   "cell_type": "code",
   "execution_count": 69,
   "metadata": {},
   "outputs": [
    {
     "data": {
      "text/plain": [
       "True"
      ]
     },
     "execution_count": 69,
     "metadata": {},
     "output_type": "execute_result"
    }
   ],
   "source": [
    "#I am using the len() function to get the length of the string, int() function to turn age from a string to an integer,\n",
    "#and the '>' symbol to compare the two sides.\n",
    "len(Phrase)>(int(age)+40)"
   ]
  }
 ],
 "metadata": {
  "kernelspec": {
   "display_name": "Python 3",
   "language": "python",
   "name": "python3"
  },
  "language_info": {
   "codemirror_mode": {
    "name": "ipython",
    "version": 3
   },
   "file_extension": ".py",
   "mimetype": "text/x-python",
   "name": "python",
   "nbconvert_exporter": "python",
   "pygments_lexer": "ipython3",
   "version": "3.6.5"
  }
 },
 "nbformat": 4,
 "nbformat_minor": 2
}
