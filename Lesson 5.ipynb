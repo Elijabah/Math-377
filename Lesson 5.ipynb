{
 "cells": [
  {
   "cell_type": "markdown",
   "metadata": {},
   "source": [
    "# Lesson 5\n",
    "### Questions\n",
    "1. Create an array containing 4 string elements: your first name, your last name, your birth state and your favorite color.\n",
    "a. Use a numpy function to make all elements uppercase.\n",
    "b. Use a numpy function to count the number of times the letter “a” appears in each element of your array.\n",
    "c. Optional: Use a numpy function to find the length of each element in the array. You may need to Google this.\n",
    "\n",
    "2. Create an array containing EVERY OTHER odd number starting with 1 and ending with (and including) 41.\n",
    "a. Use numpy to find the sum and the product of the elements of this array. NOTE: This will require you to convert the elements of your array to floats using the astype method.\n",
    "b. Use numpy to take the natural log of each element.\n",
    "c. Optional: The numpy function np.diff finds the difference between adjacent elements of an array. Find the SUM of adjacent elements of this array."
   ]
  },
  {
   "cell_type": "markdown",
   "metadata": {},
   "source": [
    "### Responses"
   ]
  },
  {
   "cell_type": "code",
   "execution_count": 30,
   "metadata": {
    "scrolled": true
   },
   "outputs": [],
   "source": [
    "#1. Initialize starting packages and array.\n",
    "import numpy as np\n",
    "from datascience import *\n",
    "Problem1_Array=np.array(['Elijah','Evers','Wisconsin','Blue'])"
   ]
  },
  {
   "cell_type": "code",
   "execution_count": 31,
   "metadata": {},
   "outputs": [
    {
     "data": {
      "text/plain": [
       "array(['ELIJAH', 'EVERS', 'WISCONSIN', 'BLUE'], dtype='<U9')"
      ]
     },
     "execution_count": 31,
     "metadata": {},
     "output_type": "execute_result"
    }
   ],
   "source": [
    "#a. Using the np.char.upper function I can make every letter uppercase.\n",
    "np.char.upper(Problem1_Array)"
   ]
  },
  {
   "cell_type": "code",
   "execution_count": 33,
   "metadata": {},
   "outputs": [
    {
     "data": {
      "text/plain": [
       "array([1, 0, 0, 0])"
      ]
     },
     "execution_count": 33,
     "metadata": {},
     "output_type": "execute_result"
    }
   ],
   "source": [
    "#b. Using the np.char.count function I can count the number of times a shows up in each element\n",
    "np.char.count(Problem1_Array,'a')"
   ]
  },
  {
   "cell_type": "code",
   "execution_count": 41,
   "metadata": {},
   "outputs": [
    {
     "data": {
      "text/plain": [
       "array([ 1.,  5.,  9., 13., 17., 21., 25., 29., 33., 37., 41.])"
      ]
     },
     "execution_count": 41,
     "metadata": {},
     "output_type": "execute_result"
    }
   ],
   "source": [
    "#2. Initializing the array with arange function\n",
    "Numbers=np.arange(1.,42,4)\n",
    "Numbers"
   ]
  },
  {
   "cell_type": "code",
   "execution_count": 42,
   "metadata": {},
   "outputs": [
    {
     "name": "stdout",
     "output_type": "stream",
     "text": [
      "231.0\n",
      "7579867420125.0\n"
     ]
    }
   ],
   "source": [
    "#a. We sum these by using the np.sum function\n",
    "print(np.sum(Numbers))\n",
    "# We get the product by using the np.prod function\n",
    "print(np.prod(Numbers))"
   ]
  },
  {
   "cell_type": "code",
   "execution_count": 43,
   "metadata": {},
   "outputs": [
    {
     "data": {
      "text/plain": [
       "array([0.        , 1.60943791, 2.19722458, 2.56494936, 2.83321334,\n",
       "       3.04452244, 3.21887582, 3.36729583, 3.49650756, 3.61091791,\n",
       "       3.71357207])"
      ]
     },
     "execution_count": 43,
     "metadata": {},
     "output_type": "execute_result"
    }
   ],
   "source": [
    "#b. We use the np.log function to obtain the natural log of each element\n",
    "np.log(Numbers)"
   ]
  },
  {
   "cell_type": "code",
   "execution_count": null,
   "metadata": {},
   "outputs": [],
   "source": []
  }
 ],
 "metadata": {
  "kernelspec": {
   "display_name": "Python 3",
   "language": "python",
   "name": "python3"
  },
  "language_info": {
   "codemirror_mode": {
    "name": "ipython",
    "version": 3
   },
   "file_extension": ".py",
   "mimetype": "text/x-python",
   "name": "python",
   "nbconvert_exporter": "python",
   "pygments_lexer": "ipython3",
   "version": "3.6.5"
  }
 },
 "nbformat": 4,
 "nbformat_minor": 2
}
