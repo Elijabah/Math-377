{
 "cells": [
  {
   "cell_type": "markdown",
   "metadata": {},
   "source": [
    "# Lesson 9\n",
    "### Questions\n",
    "\n",
    "1. The tips.csv dataset contains data on tips collected from a restaurant.\n",
    "a. Find the mean tip broken down by sex. On one plot, build a histogram of tips for\n",
    "males overlaid with a histogram of tips for females. Discuss what you found.\n",
    "b. Repeat part a, but broken down by time.\n",
    "2. Create a function called weekday_to_num. This function inputs a string denoting day of the week (Mon, Tues, Wed, Thur, Fri, Sat, Sun), and returns a number (Mon = 1, Tues = 2, … Sun = 7).\n",
    "3. Apply this function to the day column of tips and include the result as a new column in tips, called weekday_num.\n",
    "4. Create a function called est_tip. The goal of this function is to predict tip amount based on the value of the bill (total_bill). To do this, we will look at “nearby” values (i.e. tip, where the value of total_bill is near the value of interest.) For example, if we want to predict the tip for total bill value of $20, we will simply look at all total bills near $20 and average the tip amount. The input of est_tip should be the total bill amount and the window, or the difference in total bill we would consider “nearby”. For example, for a window of $1, we will look at all bills totaling $19 thru $21. The output of this function will be the predicted tip amount.\n",
    "5. Apply this function to the total_bill column of tips and include the result as a new column in tips. Build a scatterplot showing predicted tip amount overlaid with actual tip amount.\n",
    "### Responses"
   ]
  },
  {
   "cell_type": "code",
   "execution_count": 14,
   "metadata": {},
   "outputs": [
    {
     "data": {
      "text/html": [
       "<table border=\"1\" class=\"dataframe\">\n",
       "    <thead>\n",
       "        <tr>\n",
       "            <th>total_bill</th> <th>tip</th> <th>sex</th> <th>smoker</th> <th>day</th> <th>time</th> <th>size</th>\n",
       "        </tr>\n",
       "    </thead>\n",
       "    <tbody>\n",
       "        <tr>\n",
       "            <td>16.99     </td> <td>1.01</td> <td>Female</td> <td>No    </td> <td>Sun </td> <td>Dinner</td> <td>2   </td>\n",
       "        </tr>\n",
       "    </tbody>\n",
       "        <tr>\n",
       "            <td>10.34     </td> <td>1.66</td> <td>Male  </td> <td>No    </td> <td>Sun </td> <td>Dinner</td> <td>3   </td>\n",
       "        </tr>\n",
       "    </tbody>\n",
       "        <tr>\n",
       "            <td>21.01     </td> <td>3.5 </td> <td>Male  </td> <td>No    </td> <td>Sun </td> <td>Dinner</td> <td>3   </td>\n",
       "        </tr>\n",
       "    </tbody>\n",
       "        <tr>\n",
       "            <td>23.68     </td> <td>3.31</td> <td>Male  </td> <td>No    </td> <td>Sun </td> <td>Dinner</td> <td>2   </td>\n",
       "        </tr>\n",
       "    </tbody>\n",
       "        <tr>\n",
       "            <td>24.59     </td> <td>3.61</td> <td>Female</td> <td>No    </td> <td>Sun </td> <td>Dinner</td> <td>4   </td>\n",
       "        </tr>\n",
       "    </tbody>\n",
       "        <tr>\n",
       "            <td>25.29     </td> <td>4.71</td> <td>Male  </td> <td>No    </td> <td>Sun </td> <td>Dinner</td> <td>4   </td>\n",
       "        </tr>\n",
       "    </tbody>\n",
       "        <tr>\n",
       "            <td>8.77      </td> <td>2   </td> <td>Male  </td> <td>No    </td> <td>Sun </td> <td>Dinner</td> <td>2   </td>\n",
       "        </tr>\n",
       "    </tbody>\n",
       "        <tr>\n",
       "            <td>26.88     </td> <td>3.12</td> <td>Male  </td> <td>No    </td> <td>Sun </td> <td>Dinner</td> <td>4   </td>\n",
       "        </tr>\n",
       "    </tbody>\n",
       "        <tr>\n",
       "            <td>15.04     </td> <td>1.96</td> <td>Male  </td> <td>No    </td> <td>Sun </td> <td>Dinner</td> <td>2   </td>\n",
       "        </tr>\n",
       "    </tbody>\n",
       "        <tr>\n",
       "            <td>14.78     </td> <td>3.23</td> <td>Male  </td> <td>No    </td> <td>Sun </td> <td>Dinner</td> <td>2   </td>\n",
       "        </tr>\n",
       "    </tbody>\n",
       "</table>\n",
       "<p>... (234 rows omitted)</p>"
      ],
      "text/plain": [
       "total_bill | tip  | sex    | smoker | day  | time   | size\n",
       "16.99      | 1.01 | Female | No     | Sun  | Dinner | 2\n",
       "10.34      | 1.66 | Male   | No     | Sun  | Dinner | 3\n",
       "21.01      | 3.5  | Male   | No     | Sun  | Dinner | 3\n",
       "23.68      | 3.31 | Male   | No     | Sun  | Dinner | 2\n",
       "24.59      | 3.61 | Female | No     | Sun  | Dinner | 4\n",
       "25.29      | 4.71 | Male   | No     | Sun  | Dinner | 4\n",
       "8.77       | 2    | Male   | No     | Sun  | Dinner | 2\n",
       "26.88      | 3.12 | Male   | No     | Sun  | Dinner | 4\n",
       "15.04      | 1.96 | Male   | No     | Sun  | Dinner | 2\n",
       "14.78      | 3.23 | Male   | No     | Sun  | Dinner | 2\n",
       "... (234 rows omitted)"
      ]
     },
     "execution_count": 14,
     "metadata": {},
     "output_type": "execute_result"
    }
   ],
   "source": [
    "#1. I'm loading in the dataset\n",
    "Tips=Table.read_table('tips.csv')\n",
    "Tips"
   ]
  },
  {
   "cell_type": "code",
   "execution_count": 27,
   "metadata": {},
   "outputs": [
    {
     "name": "stdout",
     "output_type": "stream",
     "text": [
      "The average tips for males was $ 3.0896178343949043\n",
      "The average tips for females was $ 2.8334482758620685\n"
     ]
    }
   ],
   "source": [
    "#a. Calculating the average tip of each sex\n",
    "import numpy as np\n",
    "from datascience import *\n",
    "%matplotlib inline\n",
    "import matplotlib.pyplot as plots\n",
    "Males=Tips.where('sex',are.equal_to('Male')).column(\"tip\")\n",
    "Females=Tips.where('sex',are.equal_to('Female')).column(\"tip\")\n",
    "print(\"The average tips for males was $\",np.average(Males))\n",
    "print(\"The average tips for females was $\",np.average(Females))"
   ]
  },
  {
   "cell_type": "code",
   "execution_count": 30,
   "metadata": {},
   "outputs": [
    {
     "name": "stderr",
     "output_type": "stream",
     "text": [
      "C:\\Users\\C20Elijah.Evers\\AppData\\Local\\Continuum\\anaconda3\\lib\\site-packages\\matplotlib\\axes\\_axes.py:6462: UserWarning: The 'normed' kwarg is deprecated, and has been replaced by the 'density' kwarg.\n",
      "  warnings.warn(\"The 'normed' kwarg is deprecated, and has been \"\n"
     ]
    },
    {
     "data": {
      "image/png": "[encoded data removed]",
      "text/plain": [
       "<Figure size 432x288 with 1 Axes>"
      ]
     },
     "metadata": {},
     "output_type": "display_data"
    }
   ],
   "source": [
    "# Making a hiatogram of the tips\n",
    "Tips.hist(\"tip\",group=\"sex\",unit=\"Dollar\")"
   ]
  },
  {
   "cell_type": "code",
   "execution_count": 33,
   "metadata": {},
   "outputs": [
    {
     "name": "stdout",
     "output_type": "stream",
     "text": [
      "The average tips for dinner was $ 3.102670454545454\n",
      "The average tips for lunch was $ 2.728088235294118\n"
     ]
    }
   ],
   "source": [
    "#b. Finding the average tip for lunch and dinner\n",
    "Dinner=Tips.where('time',are.equal_to('Dinner')).column(\"tip\")\n",
    "Lunch=Tips.where('time',are.equal_to('Lunch')).column(\"tip\")\n",
    "\n",
    "print(\"The average tips for dinner was $\",np.average(Dinner))\n",
    "print(\"The average tips for lunch was $\",np.average(Lunch))"
   ]
  },
  {
   "cell_type": "code",
   "execution_count": 36,
   "metadata": {},
   "outputs": [
    {
     "name": "stderr",
     "output_type": "stream",
     "text": [
      "C:\\Users\\C20Elijah.Evers\\AppData\\Local\\Continuum\\anaconda3\\lib\\site-packages\\matplotlib\\axes\\_axes.py:6462: UserWarning: The 'normed' kwarg is deprecated, and has been replaced by the 'density' kwarg.\n",
      "  warnings.warn(\"The 'normed' kwarg is deprecated, and has been \"\n"
     ]
    },
    {
     "data": {
      "image/png": "[encoded data removed]",
      "text/plain": [
       "<Figure size 432x288 with 1 Axes>"
      ]
     },
     "metadata": {},
     "output_type": "display_data"
    }
   ],
   "source": [
    "# Putting the tips by time of meal into a histogram\n",
    "Tips.hist(\"tip\",group=\"time\",unit=\"Dollar\")"
   ]
  },
  {
   "cell_type": "code",
   "execution_count": 41,
   "metadata": {},
   "outputs": [],
   "source": [
    "#2. Creating a function to convert Name of Day into a number\n",
    "def weekday_to_num(Day):\n",
    "    if Day==\"Mon\":\n",
    "        return 1\n",
    "    elif Day==\"Tues\":\n",
    "        return 2\n",
    "    elif Day==\"Wed\":\n",
    "        return 3\n",
    "    elif Day==\"Thur\":\n",
    "        return 4\n",
    "    elif Day==\"Fri\":\n",
    "        return 5\n",
    "    elif Day==\"Sat\":\n",
    "        return 6\n",
    "    elif Day==\"Sun\":\n",
    "        return 7"
   ]
  },
  {
   "cell_type": "code",
   "execution_count": 42,
   "metadata": {},
   "outputs": [
    {
     "data": {
      "text/html": [
       "<table border=\"1\" class=\"dataframe\">\n",
       "    <thead>\n",
       "        <tr>\n",
       "            <th>total_bill</th> <th>tip</th> <th>sex</th> <th>smoker</th> <th>day</th> <th>time</th> <th>size</th> <th>weekday_num</th>\n",
       "        </tr>\n",
       "    </thead>\n",
       "    <tbody>\n",
       "        <tr>\n",
       "            <td>16.99     </td> <td>1.01</td> <td>Female</td> <td>No    </td> <td>Sun </td> <td>Dinner</td> <td>2   </td> <td>7          </td>\n",
       "        </tr>\n",
       "    </tbody>\n",
       "        <tr>\n",
       "            <td>10.34     </td> <td>1.66</td> <td>Male  </td> <td>No    </td> <td>Sun </td> <td>Dinner</td> <td>3   </td> <td>7          </td>\n",
       "        </tr>\n",
       "    </tbody>\n",
       "        <tr>\n",
       "            <td>21.01     </td> <td>3.5 </td> <td>Male  </td> <td>No    </td> <td>Sun </td> <td>Dinner</td> <td>3   </td> <td>7          </td>\n",
       "        </tr>\n",
       "    </tbody>\n",
       "        <tr>\n",
       "            <td>23.68     </td> <td>3.31</td> <td>Male  </td> <td>No    </td> <td>Sun </td> <td>Dinner</td> <td>2   </td> <td>7          </td>\n",
       "        </tr>\n",
       "    </tbody>\n",
       "        <tr>\n",
       "            <td>24.59     </td> <td>3.61</td> <td>Female</td> <td>No    </td> <td>Sun </td> <td>Dinner</td> <td>4   </td> <td>7          </td>\n",
       "        </tr>\n",
       "    </tbody>\n",
       "        <tr>\n",
       "            <td>25.29     </td> <td>4.71</td> <td>Male  </td> <td>No    </td> <td>Sun </td> <td>Dinner</td> <td>4   </td> <td>7          </td>\n",
       "        </tr>\n",
       "    </tbody>\n",
       "        <tr>\n",
       "            <td>8.77      </td> <td>2   </td> <td>Male  </td> <td>No    </td> <td>Sun </td> <td>Dinner</td> <td>2   </td> <td>7          </td>\n",
       "        </tr>\n",
       "    </tbody>\n",
       "        <tr>\n",
       "            <td>26.88     </td> <td>3.12</td> <td>Male  </td> <td>No    </td> <td>Sun </td> <td>Dinner</td> <td>4   </td> <td>7          </td>\n",
       "        </tr>\n",
       "    </tbody>\n",
       "        <tr>\n",
       "            <td>15.04     </td> <td>1.96</td> <td>Male  </td> <td>No    </td> <td>Sun </td> <td>Dinner</td> <td>2   </td> <td>7          </td>\n",
       "        </tr>\n",
       "    </tbody>\n",
       "        <tr>\n",
       "            <td>14.78     </td> <td>3.23</td> <td>Male  </td> <td>No    </td> <td>Sun </td> <td>Dinner</td> <td>2   </td> <td>7          </td>\n",
       "        </tr>\n",
       "    </tbody>\n",
       "</table>\n",
       "<p>... (234 rows omitted)</p>"
      ],
      "text/plain": [
       "total_bill | tip  | sex    | smoker | day  | time   | size | weekday_num\n",
       "16.99      | 1.01 | Female | No     | Sun  | Dinner | 2    | 7\n",
       "10.34      | 1.66 | Male   | No     | Sun  | Dinner | 3    | 7\n",
       "21.01      | 3.5  | Male   | No     | Sun  | Dinner | 3    | 7\n",
       "23.68      | 3.31 | Male   | No     | Sun  | Dinner | 2    | 7\n",
       "24.59      | 3.61 | Female | No     | Sun  | Dinner | 4    | 7\n",
       "25.29      | 4.71 | Male   | No     | Sun  | Dinner | 4    | 7\n",
       "8.77       | 2    | Male   | No     | Sun  | Dinner | 2    | 7\n",
       "26.88      | 3.12 | Male   | No     | Sun  | Dinner | 4    | 7\n",
       "15.04      | 1.96 | Male   | No     | Sun  | Dinner | 2    | 7\n",
       "14.78      | 3.23 | Male   | No     | Sun  | Dinner | 2    | 7\n",
       "... (234 rows omitted)"
      ]
     },
     "execution_count": 42,
     "metadata": {},
     "output_type": "execute_result"
    }
   ],
   "source": [
    "# 3. Applying the function in 2 to the table Tips\n",
    "Tips.with_column(\"weekday_num\",Tips.apply(weekday_to_num,\"day\"))"
   ]
  },
  {
   "cell_type": "code",
   "execution_count": 46,
   "metadata": {},
   "outputs": [],
   "source": [
    "# 4. Creating the function to estimate the tip\n",
    "def est_tip(Amount,Range):\n",
    "    return np.average(Tips.where(\"total_bill\",are.strictly_between(Amount-Range,Amount+Range)).column(\"tip\"))"
   ]
  },
  {
   "cell_type": "code",
   "execution_count": 49,
   "metadata": {},
   "outputs": [
    {
     "data": {
      "text/html": [
       "<table border=\"1\" class=\"dataframe\">\n",
       "    <thead>\n",
       "        <tr>\n",
       "            <th>total_bill</th> <th>tip</th> <th>sex</th> <th>smoker</th> <th>day</th> <th>time</th> <th>size</th> <th>estimated tip</th>\n",
       "        </tr>\n",
       "    </thead>\n",
       "    <tbody>\n",
       "        <tr>\n",
       "            <td>16.99     </td> <td>1.01</td> <td>Female</td> <td>No    </td> <td>Sun </td> <td>Dinner</td> <td>2   </td> <td>2.80618      </td>\n",
       "        </tr>\n",
       "    </tbody>\n",
       "        <tr>\n",
       "            <td>10.34     </td> <td>1.66</td> <td>Male  </td> <td>No    </td> <td>Sun </td> <td>Dinner</td> <td>3   </td> <td>1.90276      </td>\n",
       "        </tr>\n",
       "    </tbody>\n",
       "        <tr>\n",
       "            <td>21.01     </td> <td>3.5 </td> <td>Male  </td> <td>No    </td> <td>Sun </td> <td>Dinner</td> <td>3   </td> <td>3.19813      </td>\n",
       "        </tr>\n",
       "    </tbody>\n",
       "        <tr>\n",
       "            <td>23.68     </td> <td>3.31</td> <td>Male  </td> <td>No    </td> <td>Sun </td> <td>Dinner</td> <td>2   </td> <td>3.57681      </td>\n",
       "        </tr>\n",
       "    </tbody>\n",
       "        <tr>\n",
       "            <td>24.59     </td> <td>3.61</td> <td>Female</td> <td>No    </td> <td>Sun </td> <td>Dinner</td> <td>4   </td> <td>3.6575       </td>\n",
       "        </tr>\n",
       "    </tbody>\n",
       "        <tr>\n",
       "            <td>25.29     </td> <td>4.71</td> <td>Male  </td> <td>No    </td> <td>Sun </td> <td>Dinner</td> <td>4   </td> <td>3.67526      </td>\n",
       "        </tr>\n",
       "    </tbody>\n",
       "        <tr>\n",
       "            <td>8.77      </td> <td>2   </td> <td>Male  </td> <td>No    </td> <td>Sun </td> <td>Dinner</td> <td>2   </td> <td>1.86857      </td>\n",
       "        </tr>\n",
       "    </tbody>\n",
       "        <tr>\n",
       "            <td>26.88     </td> <td>3.12</td> <td>Male  </td> <td>No    </td> <td>Sun </td> <td>Dinner</td> <td>4   </td> <td>3.72424      </td>\n",
       "        </tr>\n",
       "    </tbody>\n",
       "        <tr>\n",
       "            <td>15.04     </td> <td>1.96</td> <td>Male  </td> <td>No    </td> <td>Sun </td> <td>Dinner</td> <td>2   </td> <td>2.54036      </td>\n",
       "        </tr>\n",
       "    </tbody>\n",
       "        <tr>\n",
       "            <td>14.78     </td> <td>3.23</td> <td>Male  </td> <td>No    </td> <td>Sun </td> <td>Dinner</td> <td>2   </td> <td>2.46231      </td>\n",
       "        </tr>\n",
       "    </tbody>\n",
       "</table>\n",
       "<p>... (234 rows omitted)</p>"
      ],
      "text/plain": [
       "total_bill | tip  | sex    | smoker | day  | time   | size | estimated tip\n",
       "16.99      | 1.01 | Female | No     | Sun  | Dinner | 2    | 2.80618\n",
       "10.34      | 1.66 | Male   | No     | Sun  | Dinner | 3    | 1.90276\n",
       "21.01      | 3.5  | Male   | No     | Sun  | Dinner | 3    | 3.19813\n",
       "23.68      | 3.31 | Male   | No     | Sun  | Dinner | 2    | 3.57681\n",
       "24.59      | 3.61 | Female | No     | Sun  | Dinner | 4    | 3.6575\n",
       "25.29      | 4.71 | Male   | No     | Sun  | Dinner | 4    | 3.67526\n",
       "8.77       | 2    | Male   | No     | Sun  | Dinner | 2    | 1.86857\n",
       "26.88      | 3.12 | Male   | No     | Sun  | Dinner | 4    | 3.72424\n",
       "15.04      | 1.96 | Male   | No     | Sun  | Dinner | 2    | 2.54036\n",
       "14.78      | 3.23 | Male   | No     | Sun  | Dinner | 2    | 2.46231\n",
       "... (234 rows omitted)"
      ]
     },
     "execution_count": 49,
     "metadata": {},
     "output_type": "execute_result"
    }
   ],
   "source": [
    "# 5. Applying the function in 4 to the Table\n",
    "Tips=Tips.with_column(\"estimated tip\",Tips.apply(est_tip,\"total_bill\",1))\n",
    "Tips"
   ]
  },
  {
   "cell_type": "code",
   "execution_count": 50,
   "metadata": {},
   "outputs": [
    {
     "data": {
      "image/png": "[encoded data removed]",
      "text/plain": [
       "<Figure size 360x360 with 1 Axes>"
      ]
     },
     "metadata": {},
     "output_type": "display_data"
    }
   ],
   "source": [
    "# Comparing the estimated tip to the actual tip via scatter plot\n",
    "Tips.select(0,1,7).scatter(0)"
   ]
  }
 ],
 "metadata": {
  "kernelspec": {
   "display_name": "Python 3",
   "language": "python",
   "name": "python3"
  },
  "language_info": {
   "codemirror_mode": {
    "name": "ipython",
    "version": 3
   },
   "file_extension": ".py",
   "mimetype": "text/x-python",
   "name": "python",
   "nbconvert_exporter": "python",
   "pygments_lexer": "ipython3",
   "version": "3.6.5"
  }
 },
 "nbformat": 4,
 "nbformat_minor": 2
}
