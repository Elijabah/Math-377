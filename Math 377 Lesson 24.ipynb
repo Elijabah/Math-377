{
 "cells": [
  {
   "cell_type": "code",
   "execution_count": 1,
   "metadata": {},
   "outputs": [],
   "source": [
    "from datascience import *\n",
    "import numpy as np\n",
    "from math import *\n",
    "from scipy import stats\n",
    "import matplotlib.pyplot as plt\n",
    "%matplotlib inline"
   ]
  },
  {
   "cell_type": "markdown",
   "metadata": {},
   "source": [
    "## Lesson 24: Hypothesis Testing Errors & Power"
   ]
  },
  {
   "cell_type": "markdown",
   "metadata": {},
   "source": [
    "Throughout this block, we have been studying hypothesis tests. We have covered the four basic steps of any hypothesis test, and we have practiced various methods for obtaining the distribution of our test statistic under the null hypothesis. \n",
    "\n",
    "After we have reached a conclusion (reject or fail to reject), we must consider possible errors. \n",
    "\n",
    "### Type I error \n",
    "\n",
    "Type I error is the event that we rejected the null hypothesis when the null hypothesis was actually true. Type I error is also known as a false positive. The probability of a Type I error is usually defined by the threshold used for rejection. A common threshold is 0.05. Those of you who have taken statistics before may recognize this value as $\\alpha$. \n",
    "\n",
    "### Type II error\n",
    "\n",
    "Type II error is the event that we failed to reject the null hypothesis when the null hypothesis was actually false. This is otherwise known as a false negative. The probability of a Type II error is harder to find and requires a more in-depth analysis of a hypothesis test. The probability of a Type II error is often given as $\\beta$, and $1-\\beta$ is referred to as **Power**. The power of a test is probability that we will reject the null hypothesis when we are supposed to. \n",
    "\n",
    "Which one of these errors is more serious? It depends on the context of the problem. "
   ]
  },
  {
   "cell_type": "markdown",
   "metadata": {},
   "source": [
    "### Example: Golf Balls\n",
    "\n",
    "Joe has a summer job at a golf course and one of his jobs is to fish out golf balls from the water traps. He has a theory that certain types of golf ball are more likely to end up in the water than others. Let's assume there are four brands of golf ball, let's and assume that all four are used equally at this golf course. He fishes out 100 golf balls and counts each brand. He finds 30 of brand A, 30 of brand B, 20 of brand C and 20 of brand D. Conduct a hypothesis test to determine whether certain types of golf ball are more likely than others to end up in the water."
   ]
  },
  {
   "cell_type": "markdown",
   "metadata": {},
   "source": [
    "Step 1: Hypotheses\n",
    "\n",
    "Null Hypothesis: Each Brand is as lkely to end up in the water.\n",
    "Altervative Hypothesis: A certain brand more likely to end up in the water."
   ]
  },
  {
   "cell_type": "markdown",
   "metadata": {},
   "source": [
    "Step 2: Test statistic\n",
    "\n",
    "There are many correct answers, but let's go with sum of absolute difference between observed and expected counts under $H_0$. To do this, we need to find the expected counts. If each ball was equally likely, how many should we expected to find of each if we select 100 golf balls? "
   ]
  },
  {
   "cell_type": "code",
   "execution_count": 2,
   "metadata": {},
   "outputs": [
    {
     "data": {
      "text/plain": [
       "25"
      ]
     },
     "execution_count": 2,
     "metadata": {},
     "output_type": "execute_result"
    }
   ],
   "source": [
    "25"
   ]
  },
  {
   "cell_type": "markdown",
   "metadata": {},
   "source": [
    "Step 3: $p$-value\n",
    "\n",
    "We need the distribution of the test statistic under $H_0$. "
   ]
  },
  {
   "cell_type": "code",
   "execution_count": 5,
   "metadata": {},
   "outputs": [
    {
     "data": {
      "text/html": [
       "<table border=\"1\" class=\"dataframe\">\n",
       "    <thead>\n",
       "        <tr>\n",
       "            <th>A</th> <th>B</th> <th>C</th> <th>D</th>\n",
       "        </tr>\n",
       "    </thead>\n",
       "    <tbody>\n",
       "        <tr>\n",
       "            <td>29  </td> <td>19  </td> <td>29  </td> <td>23  </td>\n",
       "        </tr>\n",
       "    </tbody>\n",
       "        <tr>\n",
       "            <td>28  </td> <td>11  </td> <td>34  </td> <td>27  </td>\n",
       "        </tr>\n",
       "    </tbody>\n",
       "        <tr>\n",
       "            <td>23  </td> <td>27  </td> <td>25  </td> <td>25  </td>\n",
       "        </tr>\n",
       "    </tbody>\n",
       "        <tr>\n",
       "            <td>26  </td> <td>25  </td> <td>34  </td> <td>15  </td>\n",
       "        </tr>\n",
       "    </tbody>\n",
       "        <tr>\n",
       "            <td>25  </td> <td>19  </td> <td>27  </td> <td>29  </td>\n",
       "        </tr>\n",
       "    </tbody>\n",
       "        <tr>\n",
       "            <td>20  </td> <td>28  </td> <td>25  </td> <td>27  </td>\n",
       "        </tr>\n",
       "    </tbody>\n",
       "        <tr>\n",
       "            <td>33  </td> <td>17  </td> <td>28  </td> <td>22  </td>\n",
       "        </tr>\n",
       "    </tbody>\n",
       "        <tr>\n",
       "            <td>23  </td> <td>23  </td> <td>24  </td> <td>30  </td>\n",
       "        </tr>\n",
       "    </tbody>\n",
       "        <tr>\n",
       "            <td>22  </td> <td>24  </td> <td>28  </td> <td>26  </td>\n",
       "        </tr>\n",
       "    </tbody>\n",
       "        <tr>\n",
       "            <td>27  </td> <td>25  </td> <td>21  </td> <td>27  </td>\n",
       "        </tr>\n",
       "    </tbody>\n",
       "</table>\n",
       "<p>... (9990 rows omitted)</p>"
      ],
      "text/plain": [
       "A    | B    | C    | D\n",
       "29   | 19   | 29   | 23\n",
       "28   | 11   | 34   | 27\n",
       "23   | 27   | 25   | 25\n",
       "26   | 25   | 34   | 15\n",
       "25   | 19   | 27   | 29\n",
       "20   | 28   | 25   | 27\n",
       "33   | 17   | 28   | 22\n",
       "23   | 23   | 24   | 30\n",
       "22   | 24   | 28   | 26\n",
       "27   | 25   | 21   | 27\n",
       "... (9990 rows omitted)"
      ]
     },
     "execution_count": 5,
     "metadata": {},
     "output_type": "execute_result"
    }
   ],
   "source": [
    "Balls=['A','B','C','D']\n",
    "CountsA=[]\n",
    "CountsB=[]\n",
    "CountsC=[]\n",
    "CountsD=[]\n",
    "for x in np.arange(10000):\n",
    "    Array=np.random.choice(Balls,100,replace=True)\n",
    "    CountsA=np.append(CountsA,sum(Array=='A'))\n",
    "    CountsB=np.append(CountsB,sum(Array=='B'))\n",
    "    CountsC=np.append(CountsC,sum(Array=='C'))\n",
    "    CountsD=np.append(CountsD,sum(Array=='D'))\n",
    "Table().with_columns(\"A\",CountsA,\"B\",CountsB,\"C\",CountsC,\"D\",CountsD)"
   ]
  },
  {
   "cell_type": "code",
   "execution_count": 9,
   "metadata": {},
   "outputs": [
    {
     "name": "stdout",
     "output_type": "stream",
     "text": [
      "The 5% that would make us suspect that a brand is more likely to land in the water is 32.0\n"
     ]
    }
   ],
   "source": [
    "#Let us find the 5% that would make us suspect a brand is more likely than others.\n",
    "print(\"The 5% that would make us suspect that a brand is more likely to land in the water is\",(percentile(95,CountsA)+percentile(95,CountsB)+percentile(95,CountsC)+percentile(95,CountsD))/4)"
   ]
  },
  {
   "cell_type": "markdown",
   "metadata": {},
   "source": [
    "Step 4: Conclude\n",
    "\n",
    "There is not enough evidence to support that the null hypothesis is true."
   ]
  },
  {
   "cell_type": "markdown",
   "metadata": {},
   "source": [
    "What kind of error could we have made in this case? "
   ]
  },
  {
   "cell_type": "markdown",
   "metadata": {},
   "source": [
    "Type II"
   ]
  },
  {
   "cell_type": "markdown",
   "metadata": {},
   "source": [
    "#### Power \n",
    "Suppose that, in truth, 30% of the balls found in the water were brand A, 30% were brand B, 20% were brand C and 20% were brand D. In this case, our collected sample reflected this truth perfectly. However, our hypothesis test failed to recognize this deviation from equal proportions. We made a type II error. This is because this test has fairly low power. Use simulation to determine the power of this test. "
   ]
  },
  {
   "cell_type": "markdown",
   "metadata": {},
   "source": [
    "I am looking for the probability that I reject the null hypothesis given the true proportions laid out above. Well, first I need to figure out for what values of my test statistic I would reject $H_0$. "
   ]
  },
  {
   "cell_type": "markdown",
   "metadata": {},
   "source": [
    "Reject Hnot when 32% or more of a brand lands in the water."
   ]
  },
  {
   "cell_type": "markdown",
   "metadata": {},
   "source": [
    "Next, I need to simulate from the true population and determine how often my test statistic would have met this threshold. "
   ]
  },
  {
   "cell_type": "code",
   "execution_count": 16,
   "metadata": {},
   "outputs": [
    {
     "data": {
      "text/plain": [
       "0.18465"
      ]
     },
     "execution_count": 16,
     "metadata": {},
     "output_type": "execute_result"
    }
   ],
   "source": [
    "True_Balls=['A','A','A','B','B','B','C','C','D','D']\n",
    "True_CountsA=[]\n",
    "True_CountsB=[]\n",
    "True_CountsC=[]\n",
    "True_CountsD=[]\n",
    "for x in np.arange(10000):\n",
    "    Array=np.random.choice(True_Balls,100,replace=True)\n",
    "    True_CountsA=np.append(True_CountsA,sum(Array=='A'))\n",
    "    True_CountsB=np.append(True_CountsB,sum(Array=='B'))\n",
    "    True_CountsC=np.append(True_CountsC,sum(Array=='C'))\n",
    "    True_CountsD=np.append(True_CountsD,sum(Array=='D'))\n",
    "Table().with_columns(\"A\",True_CountsA,\"B\",True_CountsB,\"C\",True_CountsC,\"D\",True_CountsD)\n",
    "(sum(True_CountsA>=32)+sum(True_CountsB>=32)+sum(True_CountsC>=32)+sum(True_CountsD>=32))/40000"
   ]
  },
  {
   "cell_type": "markdown",
   "metadata": {},
   "source": [
    "Therefore there is a 18.5% chance that there would be a brand with a higher chance of landing in the water."
   ]
  },
  {
   "cell_type": "markdown",
   "metadata": {},
   "source": [
    "What do you think about this power? "
   ]
  },
  {
   "cell_type": "markdown",
   "metadata": {},
   "source": [
    "Thus the power is 81.5% which is a pretty high power."
   ]
  },
  {
   "cell_type": "markdown",
   "metadata": {},
   "source": [
    "Repeat this power calculation, but assume Joe collects 500 balls instead of 100. Note that you will have to obtain a new critical value. What does this tell you about power and sample size?"
   ]
  },
  {
   "cell_type": "code",
   "execution_count": 13,
   "metadata": {},
   "outputs": [
    {
     "data": {
      "text/html": [
       "<table border=\"1\" class=\"dataframe\">\n",
       "    <thead>\n",
       "        <tr>\n",
       "            <th>A</th> <th>B</th> <th>C</th> <th>D</th>\n",
       "        </tr>\n",
       "    </thead>\n",
       "    <tbody>\n",
       "        <tr>\n",
       "            <td>108 </td> <td>121 </td> <td>137 </td> <td>134 </td>\n",
       "        </tr>\n",
       "    </tbody>\n",
       "        <tr>\n",
       "            <td>129 </td> <td>121 </td> <td>129 </td> <td>121 </td>\n",
       "        </tr>\n",
       "    </tbody>\n",
       "        <tr>\n",
       "            <td>136 </td> <td>108 </td> <td>125 </td> <td>131 </td>\n",
       "        </tr>\n",
       "    </tbody>\n",
       "        <tr>\n",
       "            <td>117 </td> <td>147 </td> <td>119 </td> <td>117 </td>\n",
       "        </tr>\n",
       "    </tbody>\n",
       "        <tr>\n",
       "            <td>119 </td> <td>127 </td> <td>118 </td> <td>136 </td>\n",
       "        </tr>\n",
       "    </tbody>\n",
       "        <tr>\n",
       "            <td>135 </td> <td>123 </td> <td>124 </td> <td>118 </td>\n",
       "        </tr>\n",
       "    </tbody>\n",
       "        <tr>\n",
       "            <td>125 </td> <td>124 </td> <td>128 </td> <td>123 </td>\n",
       "        </tr>\n",
       "    </tbody>\n",
       "        <tr>\n",
       "            <td>131 </td> <td>127 </td> <td>126 </td> <td>116 </td>\n",
       "        </tr>\n",
       "    </tbody>\n",
       "        <tr>\n",
       "            <td>148 </td> <td>121 </td> <td>106 </td> <td>125 </td>\n",
       "        </tr>\n",
       "    </tbody>\n",
       "        <tr>\n",
       "            <td>132 </td> <td>92  </td> <td>132 </td> <td>144 </td>\n",
       "        </tr>\n",
       "    </tbody>\n",
       "</table>\n",
       "<p>... (9990 rows omitted)</p>"
      ],
      "text/plain": [
       "A    | B    | C    | D\n",
       "108  | 121  | 137  | 134\n",
       "129  | 121  | 129  | 121\n",
       "136  | 108  | 125  | 131\n",
       "117  | 147  | 119  | 117\n",
       "119  | 127  | 118  | 136\n",
       "135  | 123  | 124  | 118\n",
       "125  | 124  | 128  | 123\n",
       "131  | 127  | 126  | 116\n",
       "148  | 121  | 106  | 125\n",
       "132  | 92   | 132  | 144\n",
       "... (9990 rows omitted)"
      ]
     },
     "execution_count": 13,
     "metadata": {},
     "output_type": "execute_result"
    }
   ],
   "source": [
    "New_Balls=['A','B','C','D']\n",
    "New_CountsA=[]\n",
    "New_CountsB=[]\n",
    "New_CountsC=[]\n",
    "New_CountsD=[]\n",
    "for x in np.arange(10000):\n",
    "    Array=np.random.choice(New_Balls,500,replace=True)\n",
    "    New_CountsA=np.append(New_CountsA,sum(Array=='A'))\n",
    "    New_CountsB=np.append(New_CountsB,sum(Array=='B'))\n",
    "    New_CountsC=np.append(New_CountsC,sum(Array=='C'))\n",
    "    New_CountsD=np.append(New_CountsD,sum(Array=='D'))\n",
    "Table().with_columns(\"A\",New_CountsA,\"B\",New_CountsB,\"C\",New_CountsC,\"D\",New_CountsD)"
   ]
  },
  {
   "cell_type": "code",
   "execution_count": 14,
   "metadata": {},
   "outputs": [
    {
     "name": "stdout",
     "output_type": "stream",
     "text": [
      "The 5% that would make us suspect that a brand is more likely to land in the water is 141.0\n"
     ]
    }
   ],
   "source": [
    "print(\"The 5% that would make us suspect that a brand is more likely to land in the water is\",(percentile(95,New_CountsA)+percentile(95,New_CountsB)+percentile(95,New_CountsC)+percentile(95,New_CountsD))/4)"
   ]
  },
  {
   "cell_type": "code",
   "execution_count": 17,
   "metadata": {},
   "outputs": [
    {
     "data": {
      "text/plain": [
       "0.41055"
      ]
     },
     "execution_count": 17,
     "metadata": {},
     "output_type": "execute_result"
    }
   ],
   "source": [
    "New_True_Balls=['A','A','A','B','B','B','C','C','D','D']\n",
    "New_True_CountsA=[]\n",
    "New_True_CountsB=[]\n",
    "New_True_CountsC=[]\n",
    "New_True_CountsD=[]\n",
    "for x in np.arange(10000):\n",
    "    Array=np.random.choice(New_True_Balls,500,replace=True)\n",
    "    New_True_CountsA=np.append(New_True_CountsA,sum(Array=='A'))\n",
    "    New_True_CountsB=np.append(New_True_CountsB,sum(Array=='B'))\n",
    "    New_True_CountsC=np.append(New_True_CountsC,sum(Array=='C'))\n",
    "    New_True_CountsD=np.append(New_True_CountsD,sum(Array=='D'))\n",
    "Table().with_columns(\"A\",New_True_CountsA,\"B\",New_True_CountsB,\"C\",New_True_CountsC,\"D\",New_True_CountsD)\n",
    "(sum(New_True_CountsA>=141)+sum(New_True_CountsB>=141)+sum(New_True_CountsC>=141)+sum(New_True_CountsD>=141))/40000"
   ]
  },
  {
   "cell_type": "markdown",
   "metadata": {},
   "source": [
    "With this new sample size probability of a brand being more likely to land in the water is 41.1% which is much hight than that of the previous example."
   ]
  }
 ],
 "metadata": {
  "kernelspec": {
   "display_name": "Python 3",
   "language": "python",
   "name": "python3"
  },
  "language_info": {
   "codemirror_mode": {
    "name": "ipython",
    "version": 3
   },
   "file_extension": ".py",
   "mimetype": "text/x-python",
   "name": "python",
   "nbconvert_exporter": "python",
   "pygments_lexer": "ipython3",
   "version": "3.6.5"
  }
 },
 "nbformat": 4,
 "nbformat_minor": 2
}
